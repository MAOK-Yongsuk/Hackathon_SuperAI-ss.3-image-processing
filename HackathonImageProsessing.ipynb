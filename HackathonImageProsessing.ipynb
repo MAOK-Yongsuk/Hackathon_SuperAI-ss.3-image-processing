{
  "nbformat": 4,
  "nbformat_minor": 0,
  "metadata": {
    "colab": {
      "provenance": []
    },
    "kernelspec": {
      "name": "python3",
      "display_name": "Python 3"
    },
    "language_info": {
      "name": "python"
    },
    "accelerator": "GPU",
    "gpuClass": "standard"
  },
  "cells": [
    {
      "cell_type": "code",
      "execution_count": null,
      "metadata": {
        "id": "OzA1rzVX7mug"
      },
      "outputs": [],
      "source": [
        "!pip install -q kaggle"
      ]
    },
    {
      "cell_type": "code",
      "source": [
        "!mkdir ~/.kaggle\n",
        "!cp /content/drive/MyDrive/colab/kaggle.json ~/.kaggle/ #copy api key ---- depend on your directory -- my directory is .../colab/..\n",
        "!chmod 600 ~/.kaggle/kaggle.json\n",
        "!kaggle datasets list"
      ],
      "metadata": {
        "id": "Di_8zoxa8lYU"
      },
      "execution_count": null,
      "outputs": []
    },
    {
      "cell_type": "code",
      "source": [
        "!unzip /content/dataset.zip"
      ],
      "metadata": {
        "id": "CI7KmKlD8nZR"
      },
      "execution_count": null,
      "outputs": []
    },
    {
      "cell_type": "code",
      "source": [
        "import numpy as np\n",
        "import cv2\n",
        "from os import listdir\n",
        "from os.path import isfile, join\n",
        "from tqdm import tqdm\n",
        "import tensorflow as tf\n",
        "from keras.models import Sequential\n",
        "from keras.layers import Dense, Dropout, Activation, Flatten , Conv2D, MaxPool2D\n",
        "import matplotlib.pyplot as plt\n",
        "\n",
        "import os"
      ],
      "metadata": {
        "id": "w9zDkxBT8mw5"
      },
      "execution_count": null,
      "outputs": []
    },
    {
      "cell_type": "code",
      "source": [
        "width = 100\n",
        "num_classes = 10\n",
        "trainpath = '/content/dataset/trainML/'\n",
        "testpath = '/content/dataset/valML/'\n",
        "trainImg = [trainpath+f for f in listdir(trainpath)]\n",
        "testImg = [testpath+f for f in listdir(testpath)]"
      ],
      "metadata": {
        "id": "m0FYjbLk-r45"
      },
      "execution_count": null,
      "outputs": []
    },
    {
      "cell_type": "code",
      "source": [
        "def img2data(path):\n",
        "  rawImgs = []\n",
        "  labels = []\n",
        "  c = 0\n",
        "  for imagePath in (path):\n",
        "      for item in tqdm(listdir(imagePath)):\n",
        "          file = os.path.join(imagePath, item)\n",
        "          c+=1\n",
        "          l = imagePath.split('/')[4]           \n",
        "          if l == '0':\n",
        "            labels.append([1,0,0,0,0,0,0,0,0,0])         \n",
        "          elif l == '1':\n",
        "            labels.append([0,1,0,0,0,0,0,0,0,0])\n",
        "          elif l == '2':\n",
        "            labels.append([0,0,1,0,0,0,0,0,0,0])\n",
        "          elif l == '3':\n",
        "            labels.append([0,0,0,1,0,0,0,0,0,0])\n",
        "          elif l == '4':\n",
        "            labels.append([0,0,0,0,1,0,0,0,0,0]) \n",
        "          elif l == '5':\n",
        "            labels.append([0,0,0,0,0,1,0,0,0,0])\n",
        "          elif l == '6':\n",
        "            labels.append([0,0,0,0,0,0,1,0,0,0])\n",
        "          elif l == '7':\n",
        "            labels.append([0,0,0,0,0,0,0,1,0,0])\n",
        "          elif l == '8':\n",
        "            labels.append([0,0,0,0,0,0,0,0,1,0])\n",
        "          elif l == '9':\n",
        "            labels.append([0,0,0,0,0,0,0,0,0,1])  \n",
        "          img = cv2.imread(file , cv2.COLOR_BGR2RGB)\n",
        "          img = cv2.resize(img ,(width,width))\n",
        "          rawImgs.append(img)\n",
        "\n",
        "  return rawImgs, labels"
      ],
      "metadata": {
        "id": "KvUZTzyO-xh8"
      },
      "execution_count": null,
      "outputs": []
    },
    {
      "cell_type": "code",
      "source": [
        "x_train, y_train = img2data(trainImg)\n",
        "x_test, y_test = img2data(testImg)"
      ],
      "metadata": {
        "id": "O4lIV9YG-xei"
      },
      "execution_count": null,
      "outputs": []
    },
    {
      "cell_type": "code",
      "source": [
        "x_train = np.array(x_train)\n",
        "y_train = np.array(y_train)\n",
        "x_test = np.array(x_test)\n",
        "y_test = np.array(y_test)\n",
        "x_train = x_train.astype('float32')\n",
        "x_train /= 255\n",
        "x_test = x_test.astype('float32')\n",
        "x_test /= 255"
      ],
      "metadata": {
        "id": "h0YgkYCk-xb-"
      },
      "execution_count": null,
      "outputs": []
    },
    {
      "cell_type": "code",
      "source": [
        "x_train.shape,y_train.shape,x_test.shape, y_test.shape"
      ],
      "metadata": {
        "colab": {
          "base_uri": "https://localhost:8080/"
        },
        "id": "22hdZ1il-xZG",
        "outputId": "ec3b4331-62fa-4f09-c957-41418c2c1c4f"
      },
      "execution_count": null,
      "outputs": [
        {
          "output_type": "execute_result",
          "data": {
            "text/plain": [
              "((8000, 100, 100, 3), (8000, 10), (2000, 100, 100, 3), (2000, 10))"
            ]
          },
          "metadata": {},
          "execution_count": 9
        }
      ]
    },
    {
      "cell_type": "code",
      "source": [
        "model0 = Sequential([\n",
        "        Conv2D(100, (3,3), activation='relu', input_shape=(width, width, 3)),\n",
        "        Conv2D(100, (3,3), activation='relu'),\n",
        "        MaxPool2D(pool_size=(2,2)),\n",
        "        Conv2D(100,(3,3) , activation='relu'),\n",
        "        Conv2D(100,(3,3) , activation='relu'),\n",
        "        MaxPool2D(pool_size=(2,2)),\n",
        "        Flatten(),\n",
        "        Dense(num_classes, activation='softmax')\n",
        "    ])"
      ],
      "metadata": {
        "id": "Wvr5f_Nm-xV2"
      },
      "execution_count": null,
      "outputs": []
    },
    {
      "cell_type": "code",
      "source": [
        "model0.summary()"
      ],
      "metadata": {
        "colab": {
          "base_uri": "https://localhost:8080/"
        },
        "id": "QfI7M5jw-xSp",
        "outputId": "cc25245c-7db5-44d2-c3e9-07d03f396161"
      },
      "execution_count": null,
      "outputs": [
        {
          "output_type": "stream",
          "name": "stdout",
          "text": [
            "Model: \"sequential\"\n",
            "_________________________________________________________________\n",
            " Layer (type)                Output Shape              Param #   \n",
            "=================================================================\n",
            " conv2d (Conv2D)             (None, 98, 98, 100)       2800      \n",
            "                                                                 \n",
            " conv2d_1 (Conv2D)           (None, 96, 96, 100)       90100     \n",
            "                                                                 \n",
            " max_pooling2d (MaxPooling2D  (None, 48, 48, 100)      0         \n",
            " )                                                               \n",
            "                                                                 \n",
            " conv2d_2 (Conv2D)           (None, 46, 46, 100)       90100     \n",
            "                                                                 \n",
            " conv2d_3 (Conv2D)           (None, 44, 44, 100)       90100     \n",
            "                                                                 \n",
            " max_pooling2d_1 (MaxPooling  (None, 22, 22, 100)      0         \n",
            " 2D)                                                             \n",
            "                                                                 \n",
            " flatten (Flatten)           (None, 48400)             0         \n",
            "                                                                 \n",
            " dense (Dense)               (None, 10)                484010    \n",
            "                                                                 \n",
            "=================================================================\n",
            "Total params: 757,110\n",
            "Trainable params: 757,110\n",
            "Non-trainable params: 0\n",
            "_________________________________________________________________\n"
          ]
        }
      ]
    },
    {
      "cell_type": "code",
      "source": [
        "model0.compile(optimizer=tf.keras.optimizers.Adam(learning_rate=0.001), \n",
        "              loss='categorical_crossentropy', \n",
        "              metrics= ['accuracy'])\n",
        "batch_size = 512\n",
        "epochs = 20"
      ],
      "metadata": {
        "id": "Lwghn58R-xPj"
      },
      "execution_count": null,
      "outputs": []
    },
    {
      "cell_type": "code",
      "source": [
        "history = model0.fit(x_train, y_train ,batch_size=batch_size, epochs=epochs,validation_data=(x_test, y_test))"
      ],
      "metadata": {
        "id": "QOgc7Cv--xMP"
      },
      "execution_count": null,
      "outputs": []
    },
    {
      "cell_type": "code",
      "source": [
        "import matplotlib.pyplot as plt\n",
        "plt.figure(figsize=(10,4))\n",
        "plt.subplot(121),\n",
        "plt.title('model accuracy');plt.ylabel('accuracy');plt.xlabel('epoch')\n",
        "plt.legend(['train', 'validation'], loc='upper left')\n",
        "plt.plot(history.history['accuracy']);plt.plot(history.history['val_accuracy'])\n",
        "\n",
        "plt.subplot(122)\n",
        "plt.title('model loss')\n",
        "plt.ylabel('loss')\n",
        "plt.xlabel('epoch')\n",
        "plt.legend(['train', 'validation'], loc='upper left')\n",
        "plt.plot(history.history['loss']);plt.plot(history.history['val_loss'])"
      ],
      "metadata": {
        "colab": {
          "base_uri": "https://localhost:8080/",
          "height": 313
        },
        "id": "l6v-EgmDNwUk",
        "outputId": "941e5adb-5656-44b4-f6e7-a73d7da7e670"
      },
      "execution_count": null,
      "outputs": [
        {
          "output_type": "execute_result",
          "data": {
            "text/plain": [
              "[<matplotlib.lines.Line2D at 0x7f7100199a50>]"
            ]
          },
          "metadata": {},
          "execution_count": 16
        },
        {
          "output_type": "display_data",
          "data": {
            "text/plain": [
              "<Figure size 720x288 with 2 Axes>"
            ],
            "image/png": "[encoded data removed]"
          },
          "metadata": {
            "needs_background": "light"
          }
        }
      ]
    },
    {
      "cell_type": "code",
      "source": [
        "score = model0.evaluate(x_test, y_test, verbose=0)\n",
        "print(\"Test loss:\", score[0])\n",
        "print(\"Test accuracy:\", score[1])"
      ],
      "metadata": {
        "colab": {
          "base_uri": "https://localhost:8080/"
        },
        "id": "D8GSIDUYbJ-d",
        "outputId": "eeb44388-9601-4335-ae7b-8d550811626a"
      },
      "execution_count": null,
      "outputs": [
        {
          "output_type": "stream",
          "name": "stdout",
          "text": [
            "Test loss: 1.22777259349823\n",
            "Test accuracy: 0.7045000195503235\n"
          ]
        }
      ]
    },
    {
      "cell_type": "code",
      "source": [
        "model0.save(\"model.h5\")"
      ],
      "metadata": {
        "id": "1JswzVPGfEgY"
      },
      "execution_count": null,
      "outputs": []
    }
  ]
}